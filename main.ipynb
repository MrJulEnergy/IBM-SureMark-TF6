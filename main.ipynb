{
 "cells": [
  {
   "cell_type": "code",
   "execution_count": 2,
   "metadata": {},
   "outputs": [],
   "source": [
    "import serial\n",
    "import ibm_suremark_tf6 as ibm"
   ]
  },
  {
   "cell_type": "code",
   "execution_count": 63,
   "metadata": {},
   "outputs": [],
   "source": [
    "with serial.Serial(\"/dev/ttyUSB0\", 9600, timeout=2) as ser:\n",
    "    #ser.write(b\"\\x1B\\x23\\x01\") # Clear sector\n",
    "    #print(ser.read(13).hex(\"-\"))\n",
    "    #ser.write(b\"\\x1D\\x2A\\x01\\x3C\\x3C\"+data) # load data\n",
    "    ser.write(b\"\\x1B\\x2F\\x03\") # print speed\n",
    "    ser.write(b\"\\x1B\\x43\\xA0\") # sheet ejection 00 to ff\n",
    "    ser.write(b\"\\x1b\\x61\\x01\")\n",
    "    #ser.write(b\"\\x1B\\x69\") # cut\n",
    "    #ser.write(b\"\\x1D\\x5D\\x00\\x05\\x00\\x00\")\n",
    "    #ser.write(b\"\\x10\\x05\\x40\")\n",
    "    #ser.write(b\"\\x1B\\x74\\x05\")\n",
    "    #msg = ser.read(1)\n",
    "    #print(msg)\n",
    "\n",
    "    "
   ]
  },
  {
   "cell_type": "code",
   "execution_count": 4,
   "metadata": {},
   "outputs": [
    {
     "name": "stdout",
     "output_type": "stream",
     "text": [
      "1d-2f-00-01\n"
     ]
    }
   ],
   "source": [
    "p = ibm.base.Printer()\n",
    "#ibm.commands.exercise_program(p)\n",
    "#ibm.commands.send(p, \"Das soll ein Test Text sein. Hallo!\")\n",
    "#ibm.commands.download_graphics(p, \"antrag_exmat_001.bmp\", 1)\n",
    "ibm.commands.print_logo(p, 1, 0)\n",
    "\n",
    "ibm.commands.print_form_feed_and_cut(p)"
   ]
  }
 ],
 "metadata": {
  "kernelspec": {
   "display_name": "printer",
   "language": "python",
   "name": "python3"
  },
  "language_info": {
   "codemirror_mode": {
    "name": "ipython",
    "version": 3
   },
   "file_extension": ".py",
   "mimetype": "text/x-python",
   "name": "python",
   "nbconvert_exporter": "python",
   "pygments_lexer": "ipython3",
   "version": "3.1.undefined"
  }
 },
 "nbformat": 4,
 "nbformat_minor": 2
}

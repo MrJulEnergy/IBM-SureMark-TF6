{
 "cells": [
  {
   "cell_type": "code",
   "execution_count": 2,
   "metadata": {},
   "outputs": [],
   "source": [
    "import serial\n",
    "import binascii"
   ]
  },
  {
   "cell_type": "code",
   "execution_count": 147,
   "metadata": {},
   "outputs": [
    {
     "name": "stdout",
     "output_type": "stream",
     "text": [
      "1 0\n",
      "1 1\n",
      "1 2\n",
      "1 3\n",
      "0 4\n",
      "0 5\n",
      "1 6\n",
      "0 7\n"
     ]
    }
   ],
   "source": [
    "with serial.Serial(\"/dev/ttyUSB0\", 9600, timeout=5) as ser:\n",
    "    ser.write(b\"\\x1B\\x76\")\n",
    "    # ser.write(b\"\\x1D\\x49\\x01\")\n",
    "    # ser.write(b\"\\x1B\\x00\\x80\\x00\")\n",
    "    # msg = ser.readline()\n",
    "    msg_len = int.from_bytes(ser.read(2))- 2\n",
    "    raw_msg = ser.read(msg_len).hex()\n",
    "    msg = [bin(int(raw_msg[i:i+2], 16))[2:].zfill(8) for i in range(0, len(raw_msg), 2)]\n",
    "    from ibm_suremark_tf6.static import status\n",
    "    for j in range(len(msg[1])-1, -1, -1):\n",
    "        print(msg[1][j], 7-j)\n",
    " "
   ]
  },
  {
   "cell_type": "code",
   "execution_count": 28,
   "metadata": {},
   "outputs": [
    {
     "name": "stdout",
     "output_type": "stream",
     "text": [
      "0\n",
      "8\n",
      "4\n",
      "f\n",
      "0\n",
      "0\n",
      "4\n",
      "4\n",
      "2\n",
      "0\n",
      "0\n",
      "5\n",
      "2\n",
      "8\n",
      "0\n",
      "0\n"
     ]
    }
   ],
   "source": [
    "for byte in msg.hex():\n",
    "    print(byte)"
   ]
  },
  {
   "cell_type": "code",
   "execution_count": 3,
   "metadata": {},
   "outputs": [
    {
     "name": "stdout",
     "output_type": "stream",
     "text": [
      "0b1001000\n",
      "0b1000\n",
      "0b1001111\n",
      "0b1000100\n"
     ]
    }
   ],
   "source": [
    "print(bin(int(\"0x48\", 16)))\n",
    "print(bin(int(\"0x08\", 16)))\n",
    "print(bin(int(\"0x4f\", 16)))\n",
    "print(bin(int(\"0x44\", 16)))\n",
    "# 00001000\n",
    "# 01001000\n",
    "# 01001111\n",
    "# 01000100\n",
    "# 00001000"
   ]
  }
 ],
 "metadata": {
  "kernelspec": {
   "display_name": "printer",
   "language": "python",
   "name": "python3"
  },
  "language_info": {
   "codemirror_mode": {
    "name": "ipython",
    "version": 3
   },
   "file_extension": ".py",
   "mimetype": "text/x-python",
   "name": "python",
   "nbconvert_exporter": "python",
   "pygments_lexer": "ipython3",
   "version": "3.12.3"
  }
 },
 "nbformat": 4,
 "nbformat_minor": 2
}

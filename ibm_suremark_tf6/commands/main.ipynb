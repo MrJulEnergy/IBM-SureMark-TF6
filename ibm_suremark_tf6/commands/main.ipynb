{
 "cells": [
  {
   "cell_type": "code",
   "execution_count": 2,
   "metadata": {},
   "outputs": [],
   "source": [
    "import serial"
   ]
  },
  {
   "cell_type": "code",
   "execution_count": 6,
   "metadata": {},
   "outputs": [],
   "source": [
    "with serial.Serial(\"/dev/ttyUSB0\", 9600, timeout=5) as ser:\n",
    "    #ser.write(b\"\\x1B\\x23\\x01\") # Clear sector\n",
    "    #print(ser.read(13).hex(\"-\"))\n",
    "    #ser.write(b\"\\x1D\\x2A\\x01\\x3C\\x3C\"+data) # load data\n",
    "    ser.write(b\"\\x1B\\x2F\\x03\") # print speed\n",
    "    ser.write(b\"\\x1B\\x5C\\x00\\x00\")\n",
    "    #ser.write(b\"\\x1B\\x69\") # cut\n",
    "    #ser.write(b\"\\x1D\\x5D\\x00\\x05\\x00\\x00\")\n",
    "    ser.write(b\"\\x1D\\x2F\\x00\\x01\") # print\n",
    "    ser.write(b\"\\x0C\") # cut"
   ]
  }
 ],
 "metadata": {
  "kernelspec": {
   "display_name": "printer",
   "language": "python",
   "name": "python3"
  },
  "language_info": {
   "codemirror_mode": {
    "name": "ipython",
    "version": 3
   },
   "file_extension": ".py",
   "mimetype": "text/x-python",
   "name": "python",
   "nbconvert_exporter": "python",
   "pygments_lexer": "ipython3",
   "version": "3.12.3"
  }
 },
 "nbformat": 4,
 "nbformat_minor": 2
}

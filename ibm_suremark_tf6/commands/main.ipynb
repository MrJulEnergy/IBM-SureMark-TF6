{
 "cells": [
  {
   "cell_type": "code",
   "execution_count": 248,
   "metadata": {},
   "outputs": [],
   "source": [
    "import serial"
   ]
  },
  {
   "cell_type": "code",
   "execution_count": 251,
   "metadata": {},
   "outputs": [],
   "source": [
    "from PIL import Image\n",
    "\n",
    "def bitmap_to_binary(image_path):\n",
    "    img = Image.open(image_path)\n",
    "    img = img.convert('1')\n",
    "    width, height = img.size\n",
    "    binary_string = ''\n",
    "\n",
    "    for y in range(height):\n",
    "        for x in range(width):\n",
    "            pixel = img.getpixel((x, y))\n",
    "            # Append '1' for black and '0' for white to the binary string\n",
    "            binary_string += '1' if pixel == 0 else '0'\n",
    "    \n",
    "    v = int(binary_string, 2)\n",
    "    b = bytearray()\n",
    "    while v:\n",
    "        b.append(v & 0xff)\n",
    "        v >>= 8\n",
    "    return bytes(b[::-1])\n",
    "\n",
    "path = \"/home/julian/printer/IBM-SureMark-TF6/Untitled.bmp\"\n",
    "\n",
    "    \n",
    "data = bitmap_to_binary(path)\n"
   ]
  },
  {
   "cell_type": "code",
   "execution_count": 297,
   "metadata": {},
   "outputs": [],
   "source": [
    "with serial.Serial(\"/dev/ttyUSB0\", 9600, timeout=5) as ser:\n",
    "    #ser.write(b\"\\x1B\\x23\\x01\") # Clear sector\n",
    "    #print(ser.read(13).hex(\"-\"))\n",
    "    #ser.write(b\"\\x1D\\x2A\\x01\\x3C\\x3C\"+data) # load data\n",
    "    ser.write(b\"\\x1B\\x2F\\x03\") # print speed\n",
    "    ser.write(b\"\\x1B\\x5C\\x00\\x00\")\n",
    "    #ser.write(b\"\\x1B\\x69\") # cut\n",
    "    #ser.write(b\"\\x1D\\x5D\\x00\\x05\\x00\\x00\")\n",
    "    ser.write(b\"\\x1D\\x2F\\x00\\x01\") # print\n",
    "    ser.write(b\"\\x0C\") # cut"
   ]
  }
 ],
 "metadata": {
  "kernelspec": {
   "display_name": "printer",
   "language": "python",
   "name": "python3"
  },
  "language_info": {
   "codemirror_mode": {
    "name": "ipython",
    "version": 3
   },
   "file_extension": ".py",
   "mimetype": "text/x-python",
   "name": "python",
   "nbconvert_exporter": "python",
   "pygments_lexer": "ipython3",
   "version": "3.12.3"
  }
 },
 "nbformat": 4,
 "nbformat_minor": 2
}

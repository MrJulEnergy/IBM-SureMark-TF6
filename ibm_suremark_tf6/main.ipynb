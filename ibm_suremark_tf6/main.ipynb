{
 "cells": [
  {
   "cell_type": "code",
   "execution_count": 12,
   "metadata": {},
   "outputs": [],
   "source": [
    "import serial\n",
    "import binascii"
   ]
  },
  {
   "cell_type": "code",
   "execution_count": 79,
   "metadata": {},
   "outputs": [
    {
     "name": "stdout",
     "output_type": "stream",
     "text": [
      "[b'00', b'0f', b'08', b'4f', b'00', b'44', b'21', b'05', b'28', b'00', b'30', b'03', b'00', b'00', b'44']\n"
     ]
    }
   ],
   "source": [
    "with serial.Serial(\"/dev/ttyUSB0\", 9600, timeout=5) as ser:\n",
    "    #ser.write(b\"\\x1B\\x76\")\n",
    "    ser.write(b\"\\x1D\\x49\\x01\")\n",
    "    #ser.write(b\"\\x1B\\x00\\x80\\x00\")\n",
    "    #msg = ser.readline()\n",
    "    msg = ser.read(15)\n",
    "    hex_byte = binascii.hexlify(msg)\n",
    "    byte_pairs = [hex_byte[i:i+2] for i in range(0, len(hex_byte), 2)]\n",
    "    print(byte_pairs)"
   ]
  },
  {
   "cell_type": "code",
   "execution_count": 3,
   "metadata": {},
   "outputs": [
    {
     "name": "stdout",
     "output_type": "stream",
     "text": [
      "0b1001000\n",
      "0b1000\n",
      "0b1001111\n",
      "0b1000100\n"
     ]
    }
   ],
   "source": [
    "print(bin(int(\"0x48\", 16)))\n",
    "print(bin(int(\"0x08\", 16)))\n",
    "print(bin(int(\"0x4f\", 16)))\n",
    "print(bin(int(\"0x44\", 16)))\n",
    "# 00001000\n",
    "# 01001000\n",
    "# 01001111\n",
    "# 01000100"
   ]
  }
 ],
 "metadata": {
  "kernelspec": {
   "display_name": "printer",
   "language": "python",
   "name": "python3"
  },
  "language_info": {
   "codemirror_mode": {
    "name": "ipython",
    "version": 3
   },
   "file_extension": ".py",
   "mimetype": "text/x-python",
   "name": "python",
   "nbconvert_exporter": "python",
   "pygments_lexer": "ipython3",
   "version": "3.12.3"
  }
 },
 "nbformat": 4,
 "nbformat_minor": 2
}
